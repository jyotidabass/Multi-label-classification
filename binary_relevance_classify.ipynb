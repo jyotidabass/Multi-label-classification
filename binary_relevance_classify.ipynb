{
 "cells": [
  {
   "cell_type": "code",
   "execution_count": 1,
   "metadata": {
    "collapsed": true
   },
   "outputs": [],
   "source": [
    "import pandas as pd\n",
    "import numpy as np\n",
    "import scipy as sp"
   ]
  },
  {
   "cell_type": "code",
   "execution_count": 2,
   "metadata": {
    "collapsed": true
   },
   "outputs": [],
   "source": [
    "df = pd.read_csv('train.csv')"
   ]
  },
  {
   "cell_type": "code",
   "execution_count": 3,
   "metadata": {
    "collapsed": false
   },
   "outputs": [
    {
     "data": {
      "text/plain": [
       "Index([u'IsFoodGood', u'IsServiceGood', u'IsAmbianceGood', u'IsDealsGood',\n",
       "       u'IsPriceGood'],\n",
       "      dtype='object')"
      ]
     },
     "execution_count": 3,
     "metadata": {},
     "output_type": "execute_result"
    }
   ],
   "source": [
    "df.columns[range(668, 673)]"
   ]
  },
  {
   "cell_type": "code",
   "execution_count": 4,
   "metadata": {
    "collapsed": true
   },
   "outputs": [],
   "source": [
    "df_X = df[df.columns.delete(range(668, 673))]"
   ]
  },
  {
   "cell_type": "code",
   "execution_count": 5,
   "metadata": {
    "collapsed": true
   },
   "outputs": [],
   "source": [
    "from sklearn.tree import DecisionTreeClassifier\n",
    "from sklearn.ensemble import RandomForestClassifier\n",
    "from sklearn.naive_bayes import BernoulliNB"
   ]
  },
  {
   "cell_type": "code",
   "execution_count": 6,
   "metadata": {
    "collapsed": true
   },
   "outputs": [],
   "source": [
    "labels = list(df.columns[range(668, 673)])"
   ]
  },
  {
   "cell_type": "code",
   "execution_count": 7,
   "metadata": {
    "collapsed": true
   },
   "outputs": [],
   "source": [
    "label_classifier_DTC = {}\n",
    "for label in labels:\n",
    "    label_classifier_DTC[label] = DecisionTreeClassifier().fit(df_X, df[label])"
   ]
  },
  {
   "cell_type": "code",
   "execution_count": 8,
   "metadata": {
    "collapsed": true
   },
   "outputs": [],
   "source": [
    "label_classifier_RF = {}\n",
    "for label in labels:\n",
    "    label_classifier_RF[label] = RandomForestClassifier().fit(df_X, df[label])"
   ]
  },
  {
   "cell_type": "code",
   "execution_count": 9,
   "metadata": {
    "collapsed": true
   },
   "outputs": [],
   "source": [
    "label_classifier_BNB = {}\n",
    "for label in labels:\n",
    "    label_classifier_BNB[label] = BernoulliNB().fit(df_X, df[label])"
   ]
  },
  {
   "cell_type": "code",
   "execution_count": 10,
   "metadata": {
    "collapsed": true
   },
   "outputs": [],
   "source": [
    "df_test = pd.read_csv('test.csv')"
   ]
  },
  {
   "cell_type": "code",
   "execution_count": 11,
   "metadata": {
    "collapsed": true
   },
   "outputs": [],
   "source": [
    "test_X = df_test[df_test.columns.delete(range(668, 673))]\n",
    "test_y = df_test.loc[:, ['IsFoodGood', 'IsServiceGood', 'IsAmbianceGood','IsDealsGood', 'IsPriceGood']]"
   ]
  },
  {
   "cell_type": "code",
   "execution_count": 12,
   "metadata": {
    "collapsed": false
   },
   "outputs": [],
   "source": [
    "label_result_DTC = {}\n",
    "for label in labels:\n",
    "    label_result_DTC[label] = label_classifier_DTC[label].predict(test_X)"
   ]
  },
  {
   "cell_type": "code",
   "execution_count": 13,
   "metadata": {
    "collapsed": true
   },
   "outputs": [],
   "source": [
    "label_result_RF = {}\n",
    "for label in labels:\n",
    "    label_result_RF[label] = label_classifier_RF[label].predict(test_X)"
   ]
  },
  {
   "cell_type": "code",
   "execution_count": 14,
   "metadata": {
    "collapsed": true
   },
   "outputs": [],
   "source": [
    "label_result_BNB = {}\n",
    "for label in labels:\n",
    "    label_result_BNB[label] = label_classifier_BNB[label].predict(test_X)"
   ]
  },
  {
   "cell_type": "code",
   "execution_count": 15,
   "metadata": {
    "collapsed": false
   },
   "outputs": [],
   "source": [
    "result_DTC = pd.DataFrame(label_result_DTC).loc[:, \\\n",
    "                                ['IsFoodGood', 'IsServiceGood', 'IsAmbianceGood','IsDealsGood', 'IsPriceGood']]"
   ]
  },
  {
   "cell_type": "code",
   "execution_count": 16,
   "metadata": {
    "collapsed": true
   },
   "outputs": [],
   "source": [
    "result_RF = pd.DataFrame(label_result_RF).loc[:, \\\n",
    "                                ['IsFoodGood', 'IsServiceGood', 'IsAmbianceGood','IsDealsGood', 'IsPriceGood']]"
   ]
  },
  {
   "cell_type": "code",
   "execution_count": 17,
   "metadata": {
    "collapsed": true
   },
   "outputs": [],
   "source": [
    "result_BNB = pd.DataFrame(label_result_BNB).loc[:, \\\n",
    "                                ['IsFoodGood', 'IsServiceGood', 'IsAmbianceGood','IsDealsGood', 'IsPriceGood']]"
   ]
  },
  {
   "cell_type": "code",
   "execution_count": 18,
   "metadata": {
    "collapsed": false
   },
   "outputs": [],
   "source": [
    "df_report = pd.DataFrame(columns=['algorithm', 'precision', 'recall', 'harmonic mean'])"
   ]
  },
  {
   "cell_type": "code",
   "execution_count": 19,
   "metadata": {
    "collapsed": true
   },
   "outputs": [],
   "source": [
    "import classify_helper as helper"
   ]
  },
  {
   "cell_type": "code",
   "execution_count": 20,
   "metadata": {
    "collapsed": true
   },
   "outputs": [],
   "source": [
    "report_DTC = helper.report_precision_and_recall(np.array(test_y), np.array(result_DTC), 'DecisionTree')"
   ]
  },
  {
   "cell_type": "code",
   "execution_count": 21,
   "metadata": {
    "collapsed": true
   },
   "outputs": [],
   "source": [
    "df_report = df_report.append(report_DTC, ignore_index=True)"
   ]
  },
  {
   "cell_type": "code",
   "execution_count": 22,
   "metadata": {
    "collapsed": true
   },
   "outputs": [],
   "source": [
    "report_RF = helper.report_precision_and_recall(np.array(test_y), np.array(result_RF), 'RandomForest')"
   ]
  },
  {
   "cell_type": "code",
   "execution_count": 23,
   "metadata": {
    "collapsed": true
   },
   "outputs": [],
   "source": [
    "df_report = df_report.append(report_RF, ignore_index=True)"
   ]
  },
  {
   "cell_type": "code",
   "execution_count": 24,
   "metadata": {
    "collapsed": true
   },
   "outputs": [],
   "source": [
    "report_BNB = helper.report_precision_and_recall(np.array(test_y), np.array(result_BNB), 'NaiveBayes')"
   ]
  },
  {
   "cell_type": "code",
   "execution_count": 25,
   "metadata": {
    "collapsed": true
   },
   "outputs": [],
   "source": [
    "df_report = df_report.append(report_BNB, ignore_index=True)"
   ]
  },
  {
   "cell_type": "code",
   "execution_count": 26,
   "metadata": {
    "collapsed": false
   },
   "outputs": [
    {
     "data": {
      "text/html": [
       "<div>\n",
       "<table border=\"1\" class=\"dataframe\">\n",
       "  <thead>\n",
       "    <tr style=\"text-align: right;\">\n",
       "      <th></th>\n",
       "      <th>algorithm</th>\n",
       "      <th>precision</th>\n",
       "      <th>recall</th>\n",
       "      <th>harmonic mean</th>\n",
       "    </tr>\n",
       "  </thead>\n",
       "  <tbody>\n",
       "    <tr>\n",
       "      <th>0</th>\n",
       "      <td>DecisionTree</td>\n",
       "      <td>0.596990</td>\n",
       "      <td>0.588861</td>\n",
       "      <td>0.592897</td>\n",
       "    </tr>\n",
       "    <tr>\n",
       "      <th>1</th>\n",
       "      <td>RandomForest</td>\n",
       "      <td>0.662968</td>\n",
       "      <td>0.549065</td>\n",
       "      <td>0.600664</td>\n",
       "    </tr>\n",
       "    <tr>\n",
       "      <th>2</th>\n",
       "      <td>NaiveBayes</td>\n",
       "      <td>0.611327</td>\n",
       "      <td>0.562704</td>\n",
       "      <td>0.586008</td>\n",
       "    </tr>\n",
       "  </tbody>\n",
       "</table>\n",
       "</div>"
      ],
      "text/plain": [
       "      algorithm  precision    recall  harmonic mean\n",
       "0  DecisionTree   0.596990  0.588861       0.592897\n",
       "1  RandomForest   0.662968  0.549065       0.600664\n",
       "2    NaiveBayes   0.611327  0.562704       0.586008"
      ]
     },
     "execution_count": 26,
     "metadata": {},
     "output_type": "execute_result"
    }
   ],
   "source": [
    "df_report"
   ]
  },
  {
   "cell_type": "code",
   "execution_count": 27,
   "metadata": {
    "collapsed": true
   },
   "outputs": [],
   "source": [
    "import pickle\n",
    "with open('df_report_br.pkl', 'wb') as f:\n",
    "    pickle.dump(df_report, f)"
   ]
  }
 ],
 "metadata": {
  "kernelspec": {
   "display_name": "Python 2",
   "language": "python",
   "name": "python2"
  },
  "language_info": {
   "codemirror_mode": {
    "name": "ipython",
    "version": 2
   },
   "file_extension": ".py",
   "mimetype": "text/x-python",
   "name": "python",
   "nbconvert_exporter": "python",
   "pygments_lexer": "ipython2",
   "version": "2.7.11"
  }
 },
 "nbformat": 4,
 "nbformat_minor": 0
}
