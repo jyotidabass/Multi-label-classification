{
 "cells": [
  {
   "cell_type": "code",
   "execution_count": 1,
   "metadata": {
    "collapsed": true
   },
   "outputs": [],
   "source": [
    "import pandas as pd"
   ]
  },
  {
   "cell_type": "code",
   "execution_count": 2,
   "metadata": {
    "collapsed": true
   },
   "outputs": [],
   "source": [
    "df = pd.read_csv('train.csv')"
   ]
  },
  {
   "cell_type": "code",
   "execution_count": 3,
   "metadata": {
    "collapsed": true
   },
   "outputs": [],
   "source": [
    "df_y = df.loc[:, ['IsFoodGood', 'IsServiceGood', 'IsAmbianceGood', 'IsDealsGood','IsPriceGood']]"
   ]
  },
  {
   "cell_type": "code",
   "execution_count": 5,
   "metadata": {
    "collapsed": false
   },
   "outputs": [
    {
     "name": "stdout",
     "output_type": "stream",
     "text": [
      "8846\n"
     ]
    }
   ],
   "source": [
    "num = len(df_y)\n",
    "print num"
   ]
  },
  {
   "cell_type": "code",
   "execution_count": 12,
   "metadata": {
    "collapsed": true
   },
   "outputs": [],
   "source": [
    "stat = {'Food': sum(df_y[\"IsFoodGood\"]) / float(num),\n",
    "        'Service': sum(df_y[\"IsServiceGood\"]) / float(num), \n",
    "       'Ambiance': sum(df_y[\"IsAmbianceGood\"]) / float(num),\n",
    "       'Deals': sum(df_y[\"IsDealsGood\"]) / float(num),\n",
    "       'Price': sum(df_y[\"IsPriceGood\"]) / float(num)}"
   ]
  },
  {
   "cell_type": "code",
   "execution_count": 13,
   "metadata": {
    "collapsed": false
   },
   "outputs": [
    {
     "data": {
      "text/plain": [
       "{'Ambiance': 0.39147637350214787,\n",
       " 'Deals': 0.079470947320822966,\n",
       " 'Food': 0.55324440425050869,\n",
       " 'Price': 0.22281257065340268,\n",
       " 'Service': 0.36796292109427992}"
      ]
     },
     "execution_count": 13,
     "metadata": {},
     "output_type": "execute_result"
    }
   ],
   "source": [
    "stat"
   ]
  },
  {
   "cell_type": "code",
   "execution_count": 11,
   "metadata": {
    "collapsed": false
   },
   "outputs": [
    {
     "name": "stdout",
     "output_type": "stream",
     "text": [
      "15    1\n",
      "16    0\n",
      "dtype: int64\n",
      "1 1\n",
      "1 0\n"
     ]
    }
   ],
   "source": [
    "print (df_y['IsFoodGood'] & df_y['IsServiceGood'])[15:17]\n",
    "print df_y['IsFoodGood'][15], df_y['IsServiceGood'][15]\n",
    "print df_y['IsFoodGood'][16], df_y['IsServiceGood'][16]"
   ]
  },
  {
   "cell_type": "code",
   "execution_count": 17,
   "metadata": {
    "collapsed": true
   },
   "outputs": [],
   "source": [
    "stat_cor = {}\n",
    "keys = stat.keys()\n",
    "for i in range(len(keys)):\n",
    "    for j in range(i+1, len(keys)):\n",
    "        k1, k2 = keys[i], keys[j]\n",
    "        stat_cor['%s_%s' % (k1, k2)] = (stat[k1]*stat[k2], sum(df_y['Is%sGood'%k1]&df_y['Is%sGood'%k2])/float(num))"
   ]
  },
  {
   "cell_type": "code",
   "execution_count": 18,
   "metadata": {
    "collapsed": false
   },
   "outputs": [
    {
     "data": {
      "text/plain": [
       "{'Ambiance_Service': (0.14404878993324569, 0.14989825910015828),\n",
       " 'Deals_Ambiance': (0.031110998255936009, 0.020800361745421658),\n",
       " 'Deals_Price': (0.01770712606481371, 0.016730725751752204),\n",
       " 'Deals_Service': (0.029242361918299657, 0.028826588288491974),\n",
       " 'Food_Ambiance': (0.21658211303634542, 0.15792448564322858),\n",
       " 'Food_Deals': (0.043966856905732259, 0.033687542392041601),\n",
       " 'Food_Price': (0.12326980791066615, 0.11756726203933981),\n",
       " 'Food_Service': (0.20357342706708184, 0.24463034139724169),\n",
       " 'Price_Ambiance': (0.087225857130085183, 0.067148993895546016),\n",
       " 'Price_Service': (0.081986764354151684, 0.089192855527922221)}"
      ]
     },
     "execution_count": 18,
     "metadata": {},
     "output_type": "execute_result"
    }
   ],
   "source": [
    "stat_cor"
   ]
  },
  {
   "cell_type": "code",
   "execution_count": 20,
   "metadata": {
    "collapsed": false
   },
   "outputs": [
    {
     "data": {
      "text/plain": [
       "0.058657627393116835"
      ]
     },
     "execution_count": 20,
     "metadata": {},
     "output_type": "execute_result"
    }
   ],
   "source": [
    "max([abs(v[0]-v[1]) for v in stat_cor.values()])"
   ]
  }
 ],
 "metadata": {
  "kernelspec": {
   "display_name": "Python 2",
   "language": "python",
   "name": "python2"
  },
  "language_info": {
   "codemirror_mode": {
    "name": "ipython",
    "version": 2
   },
   "file_extension": ".py",
   "mimetype": "text/x-python",
   "name": "python",
   "nbconvert_exporter": "python",
   "pygments_lexer": "ipython2",
   "version": "2.7.11"
  }
 },
 "nbformat": 4,
 "nbformat_minor": 0
}
